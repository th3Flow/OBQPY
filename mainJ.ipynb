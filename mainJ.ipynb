{
 "cells": [
  {
   "cell_type": "code",
   "execution_count": 1,
   "metadata": {},
   "outputs": [],
   "source": [
    "# system packages\n",
    "import numpy as np\n",
    "import pandas as pd\n",
    "import math\n",
    "\n",
    "import matplotlib.pyplot as mtplt\n",
    "import matplotlib.gridspec as gridspec\n",
    "%matplotlib qt\n",
    "\n",
    "import scipy.linalg as scLinAlg\n",
    "import scipy.signal as sigP\n"
   ]
  },
  {
   "cell_type": "code",
   "execution_count": 2,
   "metadata": {},
   "outputs": [],
   "source": [
    "# individual packages\n",
    "import sg, sa, sp, obq\n",
    "\n",
    "mtplt.close('all')\n",
    "\n",
    "sNbins = 2**11\n",
    "sFs = sNbins\n",
    "sT = 1 / sFs\n",
    "sL = 83\n",
    "sL_h = math.floor(sL/2)\n",
    "sRecFilterFrequ = 132\n"
   ]
  },
  {
   "cell_type": "markdown",
   "metadata": {},
   "source": [
    "Generate input signal"
   ]
  },
  {
   "cell_type": "code",
   "execution_count": 3,
   "metadata": {},
   "outputs": [],
   "source": [
    "### Signal generation ###\n",
    "v_n = np.arange(sNbins).reshape(-1, 1)\n",
    "vxFrequ = (np.arange(1, 131, step=3) * sFs / sNbins).reshape(-1, 1)\n",
    "vxPhaseInit = np.random.rand(len(vxFrequ), 1) * 2 * np.pi\n",
    "\n",
    "vx, vTime = sg.signalGen(v_n, vxFrequ, vxPhaseInit, sFs, 'real')\n",
    "vx = sg.MFnormalize(vx, np.array([-1, 1]))"
   ]
  },
  {
   "cell_type": "markdown",
   "metadata": {},
   "source": [
    "Generate FiltersCoeff and corresp. Matrices"
   ]
  },
  {
   "cell_type": "code",
   "execution_count": 4,
   "metadata": {},
   "outputs": [],
   "source": [
    "### Generate ideal matrices ###\n",
    "vRIdeal = sp.idealBinFilt(sNbins, sg.freq2Bin(sRecFilterFrequ, sNbins, sFs), 'normal')\n",
    "mRIdeal = scLinAlg.toeplitz(vRIdeal)\n",
    "\n",
    "vFilt = sigP.firwin(sL, sg.freq2digFc(sRecFilterFrequ,sFs), window = \"hann\")\n",
    "# Replace zeros with eps\n",
    "vFilt[vFilt == 0] = np.finfo(float).eps\n",
    "mFilt = sp.convmtx(vFilt,sNbins,'colWise')\n",
    "mFilt = mFilt[sL_h-1:(sL_h+sNbins-1),:]\n",
    "mFilt = np.tril(mFilt)"
   ]
  },
  {
   "cell_type": "markdown",
   "metadata": {},
   "source": [
    "Quantize the input signal"
   ]
  },
  {
   "cell_type": "code",
   "execution_count": 5,
   "metadata": {},
   "outputs": [],
   "source": [
    "vC = np.zeros((sNbins,1), dtype = 'float')\n",
    "vBSequSingle, ve = obq.iterSequQ(vx,mFilt,vC,0)"
   ]
  },
  {
   "cell_type": "markdown",
   "metadata": {},
   "source": [
    "Frequency Analysis"
   ]
  },
  {
   "cell_type": "code",
   "execution_count": 6,
   "metadata": {},
   "outputs": [],
   "source": [
    "vBfft = np.fft.fft(vBSequSingle)\n",
    "vBfftMag = 20*sa.safelog10(np.abs(vBfft) / np.max(abs(vBfft))) \n",
    "\n",
    "vX = np.fft.fft(vx)\n",
    "vXMag = 20*sa.safelog10(np.abs(vX) / np.max(abs(vX)))\n",
    "# Frequency bins\n",
    "vFreq = np.fft.fftfreq(sNbins, sT)"
   ]
  },
  {
   "cell_type": "markdown",
   "metadata": {},
   "source": [
    "SNR Calculations"
   ]
  },
  {
   "cell_type": "code",
   "execution_count": 11,
   "metadata": {},
   "outputs": [],
   "source": [
    "sVX_MSE, sVX_SNRdb, sVX_PSNRdb = sa.evalN(mRIdeal @ (vx-vx), mRIdeal @ vx)\n",
    "sVB_MSE, sVB_SNRdb, sVB_PSNRdb = sa.evalN(mRIdeal @ (vx-vBSequSingle), mRIdeal @ vx)"
   ]
  },
  {
   "cell_type": "markdown",
   "metadata": {},
   "source": [
    "Plots"
   ]
  },
  {
   "cell_type": "code",
   "execution_count": 12,
   "metadata": {},
   "outputs": [],
   "source": [
    "###### PLOTTING ######\n",
    "figOne = mtplt.figure()\n",
    "Pltgs = gridspec.GridSpec(3, 2)\n",
    "\n",
    "pltDiscTime = figOne.add_subplot(Pltgs[0,:])\n",
    "pltDiscTime.plot(vx)\n",
    "pltDiscTime.set_title('Input Signal SNR: {snr} dB'.format(snr = round(sVX_SNRdb,2)))\n",
    "pltDiscTime.set_xlabel('Samples $n$', fontsize = 11)\n",
    "pltDiscTime.set_ylabel('Amplitude', fontsize = 11)\n",
    "pltDiscTime.set_xlim([0,sNbins])\n",
    "mtplt.minorticks_on()\n",
    "mtplt.grid(True, which='both', linestyle='--', linewidth=0.3, color='gray')\n",
    "\n",
    "pltObsOne = figOne.add_subplot(Pltgs[1,0])\n",
    "pltObsOne.plot(vBSequSingle)\n",
    "pltObsOne.set_title('Single-Sequential Quantization')\n",
    "pltObsOne.set_xlabel('Samples $n$', fontsize = 11)\n",
    "pltObsOne.set_ylabel('Amplitude', fontsize = 11)\n",
    "pltObsOne.set_xlim([0,sNbins])\n",
    "mtplt.minorticks_on()\n",
    "mtplt.grid(True, which='both', linestyle='--', linewidth=0.3, color='gray')\n",
    "\n",
    "pltObsTwo = figOne.add_subplot(Pltgs[1,1])\n",
    "pltObsTwo.set_title('Block-Sequential Structure')\n",
    "pltObsTwo.set_xlabel('Samples $n$', fontsize = 11)\n",
    "pltObsTwo.set_ylabel('Amplitude', fontsize = 11)\n",
    "mtplt.minorticks_on()\n",
    "mtplt.grid(True, which='both', linestyle='--', linewidth=0.3, color='gray')\n",
    "\n",
    "pltFreqOne = figOne.add_subplot(Pltgs[2,0])\n",
    "pltFreqOne.plot(vFreq[:sNbins // 2], vBfftMag[:sNbins // 2])\n",
    "pltFreqOne.set_title('Frequency Spectrum One  SNR: {snr} dB'.format(snr = round(sVB_SNRdb,2)))\n",
    "pltFreqOne.set_xlabel('Samples $n$', fontsize = 11)\n",
    "pltFreqOne.set_ylabel('Amplitude', fontsize = 11)\n",
    "pltFreqOne.set_xlim([0,sNbins/2])\n",
    "mtplt.minorticks_on()\n",
    "mtplt.grid(True, which='both', linestyle='--', linewidth=0.3, color='gray')\n",
    "\n",
    "pltFreqTwo = figOne.add_subplot(Pltgs[2,1])\n",
    "pltFreqTwo.set_title('Frequency Spectrum Two')\n",
    "pltFreqTwo.set_xlabel('Samples $n$', fontsize = 11)\n",
    "pltFreqTwo.set_ylabel('Amplitude', fontsize = 11)\n",
    "mtplt.minorticks_on()\n",
    "mtplt.grid(True, which='both', linestyle='--', linewidth=0.3, color='gray')\n",
    "\n",
    "mtplt.tight_layout()\n",
    "mtplt.show()"
   ]
  }
 ],
 "metadata": {
  "kernelspec": {
   "display_name": "Python 3",
   "language": "python",
   "name": "python3"
  },
  "language_info": {
   "codemirror_mode": {
    "name": "ipython",
    "version": 3
   },
   "file_extension": ".py",
   "mimetype": "text/x-python",
   "name": "python",
   "nbconvert_exporter": "python",
   "pygments_lexer": "ipython3",
   "version": "3.12.0"
  }
 },
 "nbformat": 4,
 "nbformat_minor": 2
}
