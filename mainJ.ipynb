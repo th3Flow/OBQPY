{
 "cells": [
  {
   "cell_type": "code",
   "execution_count": 1,
   "metadata": {},
   "outputs": [],
   "source": [
    "# system packages\n",
    "import numpy as np\n",
    "import pandas as pd\n",
    "import math\n",
    "\n",
    "#Plotting\n",
    "import matplotlib.pyplot as mtplt\n",
    "import matplotlib.gridspec as gridspec\n",
    "#Jupyter should create an interactive plot wit qt\n",
    "%matplotlib qt\n",
    "\n",
    "#Linear Algebraic, signal processing\n",
    "import scipy.linalg as scLinAlg\n",
    "import scipy.signal as sigP\n",
    "\n",
    "#gurobi\n",
    "import gurobipy as gp\n",
    "from gurobipy import GRB\n"
   ]
  },
  {
   "cell_type": "code",
   "execution_count": 2,
   "metadata": {},
   "outputs": [],
   "source": [
    "# individual packages\n",
    "import sg, sa, sp, obq\n",
    "\n",
    "mtplt.close('all')\n",
    "\n",
    "sNbins = 2**12\n",
    "sFs = sNbins\n",
    "sT = 1 / sFs\n",
    "sL = 83\n",
    "sL_h = math.floor(sL/2)\n",
    "sRecFilterFrequ = 132\n"
   ]
  },
  {
   "cell_type": "markdown",
   "metadata": {},
   "source": [
    "Generate input signal"
   ]
  },
  {
   "cell_type": "code",
   "execution_count": 3,
   "metadata": {},
   "outputs": [],
   "source": [
    "### Signal generation ###\n",
    "v_n = np.arange(sNbins).reshape(-1, 1)\n",
    "vxFrequ = (np.arange(1, 131, step=3) * sFs / sNbins).reshape(-1, 1)\n",
    "vxPhaseInit = np.random.rand(len(vxFrequ), 1) * 2 * np.pi\n",
    "\n",
    "vx, vTime = sg.signalGen(v_n, vxFrequ, vxPhaseInit, sFs, 'real')\n",
    "vx = sg.MFnormalize(vx, np.array([-1, 1]))"
   ]
  },
  {
   "cell_type": "markdown",
   "metadata": {},
   "source": [
    "Generate FiltersCoeff and corresp. Matrices"
   ]
  },
  {
   "cell_type": "code",
   "execution_count": 4,
   "metadata": {},
   "outputs": [],
   "source": [
    "### Generate ideal matrices ###\n",
    "vRIdeal = sp.idealBinFilt(sNbins, sg.freq2Bin(sRecFilterFrequ, sNbins, sFs), 'normal')\n",
    "mRIdeal = scLinAlg.toeplitz(vRIdeal)\n",
    "\n",
    "vFilt = sigP.firwin(sL, sg.freq2digFc(sRecFilterFrequ,sFs), window = \"hann\")\n",
    "# Replace zeros with eps\n",
    "vFilt[vFilt == 0] = np.finfo(float).eps\n",
    "mFilt = sp.convmtx(vFilt,sNbins,'colWise')\n",
    "mFiltfull = mFilt[sL_h-1:(sL_h+sNbins-1),:]\n",
    "mFilt = np.tril(mFiltfull)"
   ]
  },
  {
   "cell_type": "markdown",
   "metadata": {},
   "source": [
    "Quantize the input signal"
   ]
  },
  {
   "cell_type": "code",
   "execution_count": 5,
   "metadata": {},
   "outputs": [
    {
     "name": "stdout",
     "output_type": "stream",
     "text": [
      "Set parameter Username\n",
      "Academic license - for non-commercial use only - expires 2025-03-05\n",
      "Gurobi Optimizer version 11.0.0 build v11.0.0rc2 (win64 - Windows 10.0 (19045.2))\n",
      "\n",
      "CPU model: 12th Gen Intel(R) Core(TM) i5-12500H, instruction set [SSE2|AVX|AVX2]\n",
      "Thread count: 12 physical cores, 16 logical processors, using up to 16 threads\n",
      "\n",
      "Optimize a model with 0 rows, 4096 columns and 0 nonzeros\n",
      "Model fingerprint: 0xb5f5402e\n",
      "Model has 4096 quadratic objective terms\n",
      "Variable types: 0 continuous, 4096 integer (4096 binary)\n",
      "Coefficient statistics:\n",
      "  Matrix range     [0e+00, 0e+00]\n",
      "  Objective range  [1e-02, 5e-01]\n",
      "  QObjective range [5e-01, 5e-01]\n",
      "  Bounds range     [1e+00, 1e+00]\n",
      "  RHS range        [0e+00, 0e+00]\n",
      "Found heuristic solution: objective 298.3367126\n",
      "Found heuristic solution: objective 147.2180852\n",
      "Presolve removed 0 rows and 4096 columns\n",
      "Presolve time: 0.00s\n",
      "Presolve: All rows and columns removed\n",
      "\n",
      "Explored 0 nodes (0 simplex iterations) in 0.04 seconds (0.05 work units)\n",
      "Thread count was 1 (of 16 available processors)\n",
      "\n",
      "Solution count 2: 147.218 298.337 \n",
      "\n",
      "Optimal solution found (tolerance 1.00e-04)\n",
      "Best objective 1.472180851760e+02, best bound 1.472180851760e+02, gap 0.0000%\n"
     ]
    }
   ],
   "source": [
    "vC = np.zeros((sNbins,1), dtype = 'float')\n",
    "vBSequSingle, ve = obq.iterSequQ(vx,mFilt,vC,0)\n",
    "vBSequBlock, vEBlock = obq.iterSequQBlock(vx,mRIdeal,vC)"
   ]
  },
  {
   "cell_type": "markdown",
   "metadata": {},
   "source": []
  },
  {
   "cell_type": "markdown",
   "metadata": {},
   "source": [
    "Frequency Analysis"
   ]
  },
  {
   "cell_type": "code",
   "execution_count": 6,
   "metadata": {},
   "outputs": [],
   "source": [
    "vBfft = np.fft.fft(vBSequSingle)\n",
    "vBfftMag = 20*sa.safelog10(np.abs(vBfft) / np.max(abs(vBfft))) \n",
    "\n",
    "vBBlockfft = np.fft.fft(vBSequBlock)\n",
    "vBBlockfftMag = 20*sa.safelog10(np.abs(vBBlockfft) / np.max(abs(vBBlockfft))) \n",
    "\n",
    "vX = np.fft.fft(vx)\n",
    "vXMag = 20*sa.safelog10(np.abs(vX) / np.max(abs(vX)))\n",
    "# Frequency bins\n",
    "vFreq = np.fft.fftfreq(sNbins, sT)"
   ]
  },
  {
   "cell_type": "markdown",
   "metadata": {},
   "source": [
    "SNR Calculations"
   ]
  },
  {
   "cell_type": "code",
   "execution_count": 7,
   "metadata": {},
   "outputs": [],
   "source": [
    "sVX_MSE, sVX_SNRdb, sVX_PSNRdb = sa.evalN(mRIdeal @ (vx-vx), mRIdeal @ vx)\n",
    "sVB_MSE, sVB_SNRdb, sVB_PSNRdb = sa.evalN(mRIdeal @ (vx-vBSequSingle), mRIdeal @ vx)\n",
    "sVBBlock_MSE, sVBBlock_SNRdb, sVBBlock_PSNRdb = sa.evalN(mRIdeal @ (vx-vBSequBlock), mRIdeal @ vx)"
   ]
  },
  {
   "cell_type": "markdown",
   "metadata": {},
   "source": [
    "Plots"
   ]
  },
  {
   "cell_type": "code",
   "execution_count": 8,
   "metadata": {},
   "outputs": [],
   "source": [
    "###### PLOTTING ######\n",
    "figOne = mtplt.figure()\n",
    "Pltgs = gridspec.GridSpec(3, 2)\n",
    "\n",
    "pltDiscTime = figOne.add_subplot(Pltgs[0,:])\n",
    "pltDiscTime.plot(vx)\n",
    "pltDiscTime.set_title('Input Signal SNR: {snr} dB'.format(snr = round(sVX_SNRdb,2)))\n",
    "pltDiscTime.set_xlabel('Samples $n$', fontsize = 11)\n",
    "pltDiscTime.set_ylabel('Amplitude', fontsize = 11)\n",
    "pltDiscTime.set_xlim([0,sNbins])\n",
    "mtplt.minorticks_on()\n",
    "mtplt.grid(True, which='both', linestyle='--', linewidth=0.3, color='gray')\n",
    "\n",
    "pltObsOne = figOne.add_subplot(Pltgs[1,0])\n",
    "pltObsOne.plot(vBSequSingle)\n",
    "pltObsOne.set_title('Single-Sequential Quantization')\n",
    "pltObsOne.set_xlabel('Samples $n$', fontsize = 11)\n",
    "pltObsOne.set_ylabel('Amplitude', fontsize = 11)\n",
    "pltObsOne.set_xlim([0,sNbins])\n",
    "mtplt.minorticks_on()\n",
    "mtplt.grid(True, which='both', linestyle='--', linewidth=0.3, color='gray')\n",
    "\n",
    "pltObsTwo = figOne.add_subplot(Pltgs[1,1])\n",
    "pltObsTwo.plot(vBSequBlock)\n",
    "pltObsTwo.set_title('Block-Sequential Structure')\n",
    "pltObsTwo.set_xlabel('Samples $n$', fontsize = 11)\n",
    "pltObsTwo.set_ylabel('Amplitude', fontsize = 11)\n",
    "mtplt.minorticks_on()\n",
    "mtplt.grid(True, which='both', linestyle='--', linewidth=0.3, color='gray')\n",
    "\n",
    "pltFreqOne = figOne.add_subplot(Pltgs[2,0])\n",
    "pltFreqOne.plot(vFreq[:sNbins // 2], vBfftMag[:sNbins // 2])\n",
    "pltFreqOne.set_title('Frequency Spectrum One SNR: {snr} dB'.format(snr = round(sVB_SNRdb,2)))\n",
    "pltFreqOne.set_xlabel('Samples $n$', fontsize = 11)\n",
    "pltFreqOne.set_ylabel('Magnitude $(dB)$', fontsize = 11)\n",
    "pltFreqOne.set_xlim([0,sNbins/2])\n",
    "pltFreqOne.set_ylim([-60,5])\n",
    "mtplt.minorticks_on()\n",
    "mtplt.grid(True, which='both', linestyle='--', linewidth=0.3, color='gray')\n",
    "\n",
    "pltFreqTwo = figOne.add_subplot(Pltgs[2,1])\n",
    "pltFreqTwo.plot(vFreq[:sNbins // 2], vBBlockfftMag[:sNbins // 2])\n",
    "pltFreqTwo.set_title('Frequency Spectrum Two SNR: {snr} dB'.format(snr = round(sVBBlock_SNRdb,2)))\n",
    "pltFreqTwo.set_xlabel('Samples $n$', fontsize = 11)\n",
    "pltFreqTwo.set_ylabel('Magnitude $(dB)$', fontsize = 11)\n",
    "mtplt.minorticks_on()\n",
    "pltFreqTwo.set_xlim([0,sNbins/2])\n",
    "pltFreqTwo.set_ylim([-60,5])\n",
    "mtplt.grid(True, which='both', linestyle='--', linewidth=0.3, color='gray')\n",
    "\n",
    "mtplt.tight_layout(pad=-0.25)\n",
    "mtplt.show()"
   ]
  }
 ],
 "metadata": {
  "kernelspec": {
   "display_name": "Python 3",
   "language": "python",
   "name": "python3"
  },
  "language_info": {
   "codemirror_mode": {
    "name": "ipython",
    "version": 3
   },
   "file_extension": ".py",
   "mimetype": "text/x-python",
   "name": "python",
   "nbconvert_exporter": "python",
   "pygments_lexer": "ipython3",
   "version": "3.12.0"
  }
 },
 "nbformat": 4,
 "nbformat_minor": 2
}
