{
 "cells": [
  {
   "cell_type": "code",
   "execution_count": 1,
   "metadata": {},
   "outputs": [],
   "source": [
    "# system packages\n",
    "import numpy as np\n",
    "import pandas as pd\n",
    "import math\n",
    "\n",
    "#Plotting\n",
    "import matplotlib.pyplot as mtplt\n",
    "import matplotlib.gridspec as gridspec\n",
    "#Jupyter should create an interactive plot wit qt\n",
    "%matplotlib qt\n",
    "\n",
    "#Linear Algebraic, signal processing\n",
    "import scipy.linalg as scLinAlg\n",
    "import scipy.signal as sigP\n",
    "\n",
    "#sympi\n",
    "import sympy as sypy\n",
    "\n",
    "#gurobi\n",
    "#import gurobipy as gp\n",
    "#from gurobipy import GRB\n",
    "#import numpy as np"
   ]
  },
  {
   "cell_type": "code",
   "execution_count": 2,
   "metadata": {},
   "outputs": [],
   "source": [
    "# individual packages\n",
    "import sg, sa, sp, obq\n",
    "mtplt.close('all')\n",
    "\n",
    "sNbins = 2**4\n",
    "sFs = sNbins\n",
    "sT = 1 / (sFs)\n",
    "       \n",
    "sL = 15\n",
    "sBSize = 2\n",
    "sPadLen = sNbins + (sL - 1)\n",
    "sRecFilterFrequ = 4 "
   ]
  },
  {
   "cell_type": "markdown",
   "metadata": {},
   "source": [
    "Generate input signal $x_n$"
   ]
  },
  {
   "cell_type": "code",
   "execution_count": 3,
   "metadata": {},
   "outputs": [],
   "source": [
    "v_n = np.arange(sNbins).reshape(-1, 1)\n",
    "vxFrequ = (np.arange(0, 4, step=1) * sFs / sNbins).reshape(-1, 1)\n",
    "vxPhaseInit = np.random.rand(len(vxFrequ), 1) * 2 * np.pi\n",
    "\n",
    "vx, vTime = sg.signalGen(v_n, vxFrequ, vxPhaseInit, sFs, 'real')\n",
    "vx = sg.MFnormalize(vx, -1, 1)\n",
    "\n",
    "# Save to a file\n",
    "#np.save('signal.npy', vx)\n",
    "#\n",
    "vx = np.load('signal.npy')"
   ]
  },
  {
   "cell_type": "markdown",
   "metadata": {},
   "source": [
    "Generate FiltersCoeff and corresp. Matrices"
   ]
  },
  {
   "cell_type": "code",
   "execution_count": 4,
   "metadata": {},
   "outputs": [],
   "source": [
    "### Generate ideal matrices ###\n",
    "vRIdeal = sp.idealBinFilt(sNbins, sg.freq2Bin(sRecFilterFrequ, sNbins, sFs), 'normal')\n",
    "vRIdealvTest = sp.idealBinFilt(42, sg.freq2Bin(sRecFilterFrequ, 42, sFs), 'normal')\n",
    "mRIdeal = scLinAlg.toeplitz(vRIdeal)\n",
    "\n",
    "sAtten = 60 # in dB\n",
    "sBeta = sigP.kaiser_beta(sAtten)\n",
    "vW = sigP.firwin(sL, (sRecFilterFrequ) / (sFs/2), window=('kaiser', sBeta))\n",
    "\n",
    "vLsBand = np.array([0, sRecFilterFrequ, sRecFilterFrequ+1, (sFs/2)]) / (sFs/2)\n",
    "vDesiredGains = np.array([1, 1, 10**(-6), 10**(-6)])\n",
    "vWLs = sigP.firls(sL, vLsBand, vDesiredGains)\n",
    "vNormWLs = vWLs / np.sum(vWLs)\n",
    "\n",
    "# Replace zeros with eps\n",
    "#vW[vW == 0] = np.finfo(float).eps\n",
    "\n",
    "mW = sp.convmtx(vW,len(vx),'colWise')\n",
    "mWNN = sp.convmtx(vW,len(vx),'colWiseNN')\n",
    "\n",
    "sPadAdd = int(sPadLen - sNbins)\n",
    "vxPadded = np.pad(vx,(0,sPadAdd))\n",
    "\n",
    "vymat = mW @ vx\n",
    "sCut = int(np.floor((sL-1)/2))\n",
    "\n",
    "\n",
    "mOnes = np.ones((sNbins,sNbins))\n",
    "mSigDeltaFilt = np.tril(mOnes)"
   ]
  },
  {
   "cell_type": "code",
   "execution_count": 5,
   "metadata": {},
   "outputs": [
    {
     "name": "stdout",
     "output_type": "stream",
     "text": [
      "w = ('$\\\\left[\\\\begin{smallmatrix}-0.0055\\\\\\\\-0.0324\\\\\\\\0.0274\\\\\\\\0.047\\\\\\\\-0.0806\\\\\\\\-0.0578\\\\\\\\0.3091\\\\\\\\0.5618\\\\\\\\0.3091\\\\\\\\-0.0578\\\\\\\\-0.0806\\\\\\\\0.047\\\\\\\\0.0274\\\\\\\\-0.0324\\\\\\\\-0.0055\\\\end{smallmatrix}\\\\right]$',)\n"
     ]
    }
   ],
   "source": [
    "symW = sypy.s\n",
    "\n",
    "vWrnd = [round(c,4) for c in vWLs]\n",
    "vecW = sypy.Matrix(vWrnd)\n",
    "\n",
    "# Generate LaTeX code\n",
    "ltx_vW = sypy.latex(vecW, mode='inline')\n",
    "\n",
    "# Output the LaTeX representation\n",
    "print(f\"w = {ltx_vW}\")"
   ]
  },
  {
   "cell_type": "markdown",
   "metadata": {},
   "source": [
    "Quantize the input signal"
   ]
  },
  {
   "cell_type": "code",
   "execution_count": 6,
   "metadata": {},
   "outputs": [],
   "source": [
    "# vBSequSingle, ve, ve_hat = obq.iterSequQ(vx,mSigDeltaFilt,0)\n",
    "# print(\"Single-Iterative solution found!\")\n",
    "#vBSequBlock, vEBlock = obq.fullOpt(vx,mW[sCut:sCut+len(vx)],vBSequSingle) \n",
    "# vW = vNormWLs[6::]\n",
    "# vBSequBlock, vEBlock = obq.iterBlockQ(vx, vW, sBSize)\n",
    "#vBSequBlock = vBSequBlock[sPadAdd::]"
   ]
  },
  {
   "cell_type": "markdown",
   "metadata": {},
   "source": [
    "Frequency Analysis"
   ]
  },
  {
   "cell_type": "code",
   "execution_count": 7,
   "metadata": {},
   "outputs": [],
   "source": [
    "# vBfft = np.fft.fft(vBSequSingle)\n",
    "# vBfftMag = 20*sa.safelog10(np.abs(vBfft) / np.max(abs(vBfft))) \n",
    "\n",
    "# vBBlockfft = np.fft.fft(vBSequBlock)\n",
    "# vBBlockfftMag = 20*sa.safelog10(np.abs(vBBlockfft) / np.max(abs(vBBlockfft))) \n",
    "\n",
    "# vBReckBlockfft = np.fft.fft(vWLs,sNbins)\n",
    "# vBReckBlockfftMag = 20*sa.safelog10(np.abs(vBReckBlockfft) / np.max(abs(vBReckBlockfft))) \n",
    "\n",
    "# vX = np.fft.fft(vx)\n",
    "# vXMag = 20*sa.safelog10(np.abs(vX) / np.max(abs(vX)))\n",
    "# # Frequency bins\n",
    "# vFreq = np.fft.fftfreq(sNbins, sT)"
   ]
  },
  {
   "cell_type": "markdown",
   "metadata": {},
   "source": [
    "SNR Calculations"
   ]
  },
  {
   "cell_type": "code",
   "execution_count": 8,
   "metadata": {},
   "outputs": [],
   "source": [
    "# sVX_MSE, sVX_SNRdb, sVX_PSNRdb = sa.evalN(vx-mRIdeal @ vx, vx)\n",
    "# sVB_MSE, sVB_SNRdb, sVB_PSNRdb = sa.evalN(mRIdeal @ (vx-vBSequSingle), mRIdeal @ vx)\n",
    "# sVBBlock_MSE, sVBBlock_SNRdb, sVBBlock_PSNRdb = sa.evalN(mRIdeal @ (vx-vBSequBlock), mRIdeal @ vx)"
   ]
  },
  {
   "cell_type": "markdown",
   "metadata": {},
   "source": [
    "Plots"
   ]
  },
  {
   "cell_type": "code",
   "execution_count": 9,
   "metadata": {},
   "outputs": [],
   "source": [
    "# ###### PLOTTING ######\n",
    "# figOne = mtplt.figure()\n",
    "# Pltgs = gridspec.GridSpec(3, 2)\n",
    "\n",
    "# pltDiscTime = figOne.add_subplot(Pltgs[0,:])\n",
    "# pltDiscTime.plot(vx)\n",
    "# # pltDiscTime.set_title('Input Signal SNR: {snr} dB'.format(snr = round(sVX_SNRdb,2)))\n",
    "# pltDiscTime.set_xlabel('Samples $n$', fontsize = 11)\n",
    "# pltDiscTime.set_ylabel('Amplitude', fontsize = 11)\n",
    "# pltDiscTime.set_xlim([0,sNbins])\n",
    "# mtplt.minorticks_on()\n",
    "# mtplt.grid(True, which='both', linestyle='--', linewidth=0.3, color='gray')\n",
    "\n",
    "# pltObsOne = figOne.add_subplot(Pltgs[1,0])\n",
    "# pltObsOne.plot(vWLs) #vFreq[:sNbins // 2], vXMag[:sNbins // 2])\n",
    "# pltObsOne.set_title('Spectrum Input Signal')\n",
    "# pltObsOne.set_xlabel('Frequency $(Hz)$', fontsize = 11)\n",
    "# pltObsOne.set_ylabel('Magnitude $(dB)$', fontsize = 11)\n",
    "# #pltObsOne.set_xlim([0,sNbins/2])\n",
    "# #pltObsOne.set_ylim([-60,5])\n",
    "# mtplt.minorticks_on()\n",
    "# mtplt.grid(True, which='both', linestyle='--', linewidth=0.3, color='gray')\n",
    "\n",
    "# pltObsTwo = figOne.add_subplot(Pltgs[1,1])\n",
    "# pltObsTwo.plot(vBReckBlockfftMag[:sNbins // 2])\n",
    "# pltObsTwo.set_title('Frequency Response of $W$')\n",
    "# pltObsTwo.set_xlabel('Frequency $(Hz)$', fontsize = 11)\n",
    "# pltObsTwo.set_ylabel('Magnitude $(dB)$', fontsize = 11)\n",
    "# pltObsTwo.set_xlim([0,sNbins/2])\n",
    "# pltObsTwo.set_ylim([-60,5])\n",
    "# mtplt.minorticks_on()\n",
    "# mtplt.grid(True, which='both', linestyle='--', linewidth=0.3, color='gray')\n",
    "\n",
    "# pltFreqOne = figOne.add_subplot(Pltgs[2,0])\n",
    "# pltFreqOne.plot(vFreq[:sNbins // 2], vBfftMag[:sNbins // 2])\n",
    "# pltFreqOne.set_title('Frequency Spectrum One SNR: {snr} dB'.format(snr = round(sVB_SNRdb,2)))\n",
    "# pltFreqOne.set_xlabel('Frequency $(Hz)$', fontsize = 11)\n",
    "# pltFreqOne.set_ylabel('Magnitude $(dB)$', fontsize = 11)\n",
    "# pltFreqOne.set_xlim([0,sNbins/2])\n",
    "# pltFreqOne.set_ylim([-60,5])\n",
    "# mtplt.minorticks_on()\n",
    "# mtplt.grid(True, which='both', linestyle='--', linewidth=0.3, color='gray')\n",
    "\n",
    "# pltFreqTwo = figOne.add_subplot(Pltgs[2,1])\n",
    "# pltFreqTwo.plot(vFreq[:sNbins // 2], vBBlockfftMag[:sNbins // 2])\n",
    "# pltFreqTwo.set_title('Frequency Spectrum Two SNR: {snr} dB'.format(snr = round(sVBBlock_SNRdb,2)))\n",
    "# pltFreqTwo.set_xlabel('Frequency $(Hz)$', fontsize = 11)\n",
    "# pltFreqTwo.set_ylabel('Magnitude $(dB)$', fontsize = 11)\n",
    "# mtplt.minorticks_on()\n",
    "# pltFreqTwo.set_xlim([0,sNbins/2])\n",
    "# pltFreqTwo.set_ylim([-60,5])\n",
    "# mtplt.grid(True, which='both', linestyle='--', linewidth=0.3, color='gray')\n",
    "\n",
    "# mtplt.tight_layout(pad=-0.25)\n",
    "# mtplt.show()"
   ]
  }
 ],
 "metadata": {
  "kernelspec": {
   "display_name": "Python 3 (ipykernel)",
   "language": "python",
   "name": "python3"
  },
  "language_info": {
   "codemirror_mode": {
    "name": "ipython",
    "version": 3
   },
   "file_extension": ".py",
   "mimetype": "text/x-python",
   "name": "python",
   "nbconvert_exporter": "python",
   "pygments_lexer": "ipython3",
   "version": "3.12.0"
  }
 },
 "nbformat": 4,
 "nbformat_minor": 4
}
